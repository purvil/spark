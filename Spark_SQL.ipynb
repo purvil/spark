{
 "cells": [
  {
   "cell_type": "code",
   "execution_count": 1,
   "metadata": {},
   "outputs": [],
   "source": [
    "import findspark\n",
    "findspark.init('/home/purvil/spark-2.4.3-bin-hadoop2.7')"
   ]
  },
  {
   "cell_type": "code",
   "execution_count": 2,
   "metadata": {},
   "outputs": [],
   "source": [
    "from pyspark.sql import SparkSession\n",
    "spark = SparkSession.builder.appName('Aggregation').getOrCreate()"
   ]
  },
  {
   "cell_type": "markdown",
   "metadata": {},
   "source": [
    "* Using it we can run queries against views or table, even we can use system and user function to optimize workloads.\n",
    "* The Hive metastore is the way in which Hive maintains table information for use across sessions. With Spark SQL, you can connect to your Hive metastore, and access table metadata to reduce file listing."
   ]
  },
  {
   "cell_type": "code",
   "execution_count": 3,
   "metadata": {},
   "outputs": [
    {
     "name": "stdout",
     "output_type": "stream",
     "text": [
      "+-------+\n",
      "|(1 + 1)|\n",
      "+-------+\n",
      "|      2|\n",
      "+-------+\n",
      "\n"
     ]
    }
   ],
   "source": [
    "spark.sql(\"SELECT 1 + 1\").show()"
   ]
  },
  {
   "cell_type": "markdown",
   "metadata": {},
   "source": [
    "* Above command returns dataframe."
   ]
  },
  {
   "cell_type": "markdown",
   "metadata": {},
   "source": [
    "### Catalog\n",
    "* Abstraction for storage metadat about data stored in table. It lists tables, database and functions.\n",
    "\n",
    "### Tables\n",
    "* Equivalent to DataFrame.\n",
    "* Table alwyas has data. There is no longer a temporary table. Only view which does not contains data.\n",
    "* Table can be managed and unmanaged.\n",
    "    - When we define table from files on disk it is unmanaged\n",
    "    - Define dtable from dataframe using saveAsTable is managed table."
   ]
  },
  {
   "cell_type": "markdown",
   "metadata": {},
   "source": [
    "### Describe table\n",
    "```\n",
    "DESCRIBE TABLE flight_csv\n",
    "\n",
    "SHOW PARTITIONS partitioned_flights\n",
    "```"
   ]
  },
  {
   "cell_type": "markdown",
   "metadata": {},
   "source": [
    "* We can also cache the table using `CACHE TABLE flights` and `UNCACHE TABLE flights`"
   ]
  },
  {
   "cell_type": "markdown",
   "metadata": {},
   "source": [
    "### Views\n",
    "* Specifies set of transformation on top of existing table.\n",
    "* View can be global, set to database or per session"
   ]
  },
  {
   "cell_type": "markdown",
   "metadata": {},
   "source": [
    "* To user view is displayed as tables, rather than rewriting all of the data to a new location, they simply perform a transformation on the source data at query time.\n",
    "* Transformation can be filter, select, group by, rollup.\n"
   ]
  },
  {
   "cell_type": "markdown",
   "metadata": {},
   "source": [
    "```\n",
    "CREATE VIEW just_usa AS\n",
    "SELECT * FROM flights WHERE dest_country_name = \"united states\"\n",
    "```"
   ]
  },
  {
   "cell_type": "markdown",
   "metadata": {},
   "source": [
    "* Temorary view are only for session"
   ]
  },
  {
   "cell_type": "markdown",
   "metadata": {},
   "source": [
    "```\n",
    "CREATE TEMP VIEW name_of_view AS\n",
    "```\n",
    "\n",
    "* Global Temp view : Available in entire spark application\n",
    "```\n",
    "CREATE GLOBAL TEMP VIEW name AS\n",
    "```\n",
    "\n",
    "* Overwrite existing view\n",
    "```\n",
    "CREATE OR REPLACE TEMP VIEW just_usa_name AS\n",
    "```"
   ]
  },
  {
   "cell_type": "markdown",
   "metadata": {},
   "source": [
    "* We can query view just like table. View is like creating new DF from existing."
   ]
  },
  {
   "cell_type": "markdown",
   "metadata": {},
   "source": [
    "* To view execution plan\n",
    "```\n",
    "EXPLAIN SELECT * FROM use_view\n",
    "```"
   ]
  },
  {
   "cell_type": "markdown",
   "metadata": {},
   "source": [
    "* List database\n",
    "```\n",
    "SHOW DATABASES\n",
    "```"
   ]
  },
  {
   "cell_type": "markdown",
   "metadata": {},
   "source": [
    "### Complex Type\n",
    "* struct, list, map"
   ]
  },
  {
   "cell_type": "markdown",
   "metadata": {},
   "source": [
    "#### Struct\n",
    "* Way to create or query nested data in Spark. To create simply wrap nset of columns in `()`"
   ]
  },
  {
   "cell_type": "markdown",
   "metadata": {},
   "source": [
    "```\n",
    "CREATE VIEW IF NOT EXISTS nested_data AS\n",
    "SELECT (DEST_COUNTRY_NAME, ORIGIN_COUNTRY_NAME) as country, count FROM flights\n",
    "```"
   ]
  },
  {
   "cell_type": "markdown",
   "metadata": {},
   "source": [
    "* To query \n",
    "```\n",
    "SELECT country.DEST_COUNTRY_NAME, count FROM nested_data\n",
    "```"
   ]
  },
  {
   "cell_type": "markdown",
   "metadata": {},
   "source": [
    "#### Lists\n",
    "* `collect_list` will create list of values. `collect_set` will create array without duplicate.\n",
    "* Both can work with aggregation.\n",
    "```\n",
    "SELECT DEST_COUNTRY_NAME as new_name, collect_list(count) as flight_count, collect_set(ORIGIN_COUTNRY_NAME) as origin_set\n",
    "FROM flights GROUP BY DEST_COUNTRY_NAME\n",
    "```"
   ]
  },
  {
   "cell_type": "markdown",
   "metadata": {},
   "source": [
    "* To create array manually"
   ]
  },
  {
   "cell_type": "markdown",
   "metadata": {},
   "source": [
    "```\n",
    "SELCT DEST_COUNTRY_NAME, ARRAY(1,2,3) FROM flights\n",
    "```"
   ]
  },
  {
   "cell_type": "markdown",
   "metadata": {},
   "source": [
    "```\n",
    "SELECT DEST_COUNTRY_NAME as new_name, collect_list(count)[0] \n",
    "FROM flights GROUP BY DEST_COUNTRY_NAME\n",
    "```"
   ]
  },
  {
   "cell_type": "markdown",
   "metadata": {},
   "source": [
    "* To convert array back to row use, `explode`"
   ]
  },
  {
   "cell_type": "markdown",
   "metadata": {},
   "source": [
    "```\n",
    "CREATE OR REPLACE TEMP VIEW flight_agg AS\n",
    "SELECT DEST_COUNTRY_NAME, collect_list(count) as collected_counts FROM flights GROUP BY DEST_COUNTRY_NAME\n",
    "```"
   ]
  },
  {
   "cell_type": "markdown",
   "metadata": {},
   "source": [
    "```\n",
    "SELECT explode(collected_counts), DEST_COUNTRY_NAME FROM flights_agg\n",
    "```"
   ]
  },
  {
   "cell_type": "markdown",
   "metadata": {},
   "source": [
    "### Function\n",
    "* To find available list of functions\n",
    "```\n",
    "SHOW FUNCTIONS\n",
    "```\n",
    "\n",
    "* To only view system functions\n",
    "```\n",
    "SHOW SYSTEM FUNCTIONS\n",
    "```"
   ]
  },
  {
   "cell_type": "markdown",
   "metadata": {},
   "source": [
    "```\n",
    "SHOW USER FUNCTIONS\n",
    "```\n",
    "* Will show user defined functions\n",
    "\n",
    "```\n",
    "SHOW FUNCTIONS \"s*\"\n",
    "\n",
    "SHOW FUNCTIONS LIKE \"collect*\"\n",
    "```"
   ]
  },
  {
   "cell_type": "markdown",
   "metadata": {},
   "source": [
    "### Uncorrelated predicate subqueries\n",
    "* No info from outer scope\n",
    "\n",
    "```\n",
    "SELECT dest_country FROM FLIGHT\n",
    "GROUPBY dest_country ORDER BY sum(count) DESC LIMIT 5\n",
    "```\n",
    "\n",
    "```\n",
    "SELECT * FROM FLIGHTS\n",
    "WHERE origin_country_name \n",
    "IN (SELECT dest_country FROM FLIGHT\n",
    "GROUPBY dest_country ORDER BY sum(count) DESC LIMIT 5)\n",
    "```\n",
    "\n",
    "```\n",
    "SELECT *, (SELECT max(count) FROM flights) AS max FROM flights\n",
    "```"
   ]
  },
  {
   "cell_type": "markdown",
   "metadata": {},
   "source": [
    "### Correlated predicate subqueries\n",
    "* Uses information of outer scope in inner subqueries\n",
    "\n",
    "```\n",
    "SELECT * FROM flights f1\n",
    "WHERE EXISTS (SELECT 1 FROM flights f2 WHERE f1.dest_country_name = f2.origin_country_name)\n",
    "AND EXISTS (SELECT 1 FROM flights f2 WHERE f2.dest_country_name = f1.origin_country_name)\n",
    "```"
   ]
  },
  {
   "cell_type": "code",
   "execution_count": null,
   "metadata": {},
   "outputs": [],
   "source": []
  }
 ],
 "metadata": {
  "kernelspec": {
   "display_name": "Python 3",
   "language": "python",
   "name": "python3"
  },
  "language_info": {
   "codemirror_mode": {
    "name": "ipython",
    "version": 3
   },
   "file_extension": ".py",
   "mimetype": "text/x-python",
   "name": "python",
   "nbconvert_exporter": "python",
   "pygments_lexer": "ipython3",
   "version": "3.6.7"
  }
 },
 "nbformat": 4,
 "nbformat_minor": 2
}
